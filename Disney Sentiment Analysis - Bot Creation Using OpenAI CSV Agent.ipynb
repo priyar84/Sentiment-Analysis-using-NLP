{
 "cells": [
  {
   "cell_type": "markdown",
   "metadata": {},
   "source": [
    "## Notebook for interacting with CSV dataset using LangChain through create_csv_agent and look for responses:"
   ]
  },
  {
   "cell_type": "markdown",
   "metadata": {},
   "source": [
    "### Import Libraries:"
   ]
  },
  {
   "cell_type": "code",
   "execution_count": 1,
   "metadata": {},
   "outputs": [],
   "source": [
    "import os\n",
    "import openai\n",
    "import langchain\n",
    "import pandas as pd\n",
    "from dotenv import load_dotenv\n",
    "from langchain.chat_models import ChatOpenAI\n",
    "from langchain.agents import initialize_agent, AgentType\n",
    "from langchain_experimental.agents.agent_toolkits import create_csv_agent"
   ]
  },
  {
   "cell_type": "code",
   "execution_count": 3,
   "metadata": {},
   "outputs": [],
   "source": [
    "# OpenAI API Key\n",
    "load_dotenv()\n",
    "openai_api_key = os.getenv(\"OPENAI_API_KEY\")\n",
    "openai.api_key = openai_api_key"
   ]
  },
  {
   "cell_type": "markdown",
   "metadata": {},
   "source": [
    "**Import Datasets:**"
   ]
  },
  {
   "cell_type": "code",
   "execution_count": 4,
   "metadata": {},
   "outputs": [
    {
     "data": {
      "text/html": [
       "<div>\n",
       "<style scoped>\n",
       "    .dataframe tbody tr th:only-of-type {\n",
       "        vertical-align: middle;\n",
       "    }\n",
       "\n",
       "    .dataframe tbody tr th {\n",
       "        vertical-align: top;\n",
       "    }\n",
       "\n",
       "    .dataframe thead th {\n",
       "        text-align: right;\n",
       "    }\n",
       "</style>\n",
       "<table border=\"1\" class=\"dataframe\">\n",
       "  <thead>\n",
       "    <tr style=\"text-align: right;\">\n",
       "      <th></th>\n",
       "      <th>Rating</th>\n",
       "      <th>Review_Text</th>\n",
       "      <th>Branch</th>\n",
       "      <th>Sentiment</th>\n",
       "    </tr>\n",
       "  </thead>\n",
       "  <tbody>\n",
       "    <tr>\n",
       "      <th>0</th>\n",
       "      <td>4</td>\n",
       "      <td>Had a better than expected time with my 2.5 ye...</td>\n",
       "      <td>Disneyland_California</td>\n",
       "      <td>1</td>\n",
       "    </tr>\n",
       "    <tr>\n",
       "      <th>1</th>\n",
       "      <td>5</td>\n",
       "      <td>Disney Land is the perfect home away from home...</td>\n",
       "      <td>Disneyland_California</td>\n",
       "      <td>1</td>\n",
       "    </tr>\n",
       "    <tr>\n",
       "      <th>2</th>\n",
       "      <td>5</td>\n",
       "      <td>Truly Disney.....  A place that showcases abou...</td>\n",
       "      <td>Disneyland_HongKong</td>\n",
       "      <td>1</td>\n",
       "    </tr>\n",
       "    <tr>\n",
       "      <th>3</th>\n",
       "      <td>4</td>\n",
       "      <td>My wife and I visited Disneyland Park at the s...</td>\n",
       "      <td>Disneyland_Paris</td>\n",
       "      <td>1</td>\n",
       "    </tr>\n",
       "    <tr>\n",
       "      <th>4</th>\n",
       "      <td>3</td>\n",
       "      <td>As it says I've been here 3 times and this was...</td>\n",
       "      <td>Disneyland_Paris</td>\n",
       "      <td>1</td>\n",
       "    </tr>\n",
       "    <tr>\n",
       "      <th>...</th>\n",
       "      <td>...</td>\n",
       "      <td>...</td>\n",
       "      <td>...</td>\n",
       "      <td>...</td>\n",
       "    </tr>\n",
       "    <tr>\n",
       "      <th>7621</th>\n",
       "      <td>2</td>\n",
       "      <td>I will start off by saying that comments aroun...</td>\n",
       "      <td>Disneyland_Paris</td>\n",
       "      <td>0</td>\n",
       "    </tr>\n",
       "    <tr>\n",
       "      <th>7622</th>\n",
       "      <td>2</td>\n",
       "      <td>Disneyland is a great place to spend time with...</td>\n",
       "      <td>Disneyland_Paris</td>\n",
       "      <td>0</td>\n",
       "    </tr>\n",
       "    <tr>\n",
       "      <th>7623</th>\n",
       "      <td>2</td>\n",
       "      <td>This was my first trip to Disneyland and I was...</td>\n",
       "      <td>Disneyland_Paris</td>\n",
       "      <td>0</td>\n",
       "    </tr>\n",
       "    <tr>\n",
       "      <th>7624</th>\n",
       "      <td>2</td>\n",
       "      <td>The lines are low, thats good, the staff are r...</td>\n",
       "      <td>Disneyland_Paris</td>\n",
       "      <td>0</td>\n",
       "    </tr>\n",
       "    <tr>\n",
       "      <th>7625</th>\n",
       "      <td>2</td>\n",
       "      <td>I would not recommend going if you have been t...</td>\n",
       "      <td>Disneyland_Paris</td>\n",
       "      <td>0</td>\n",
       "    </tr>\n",
       "  </tbody>\n",
       "</table>\n",
       "<p>7626 rows × 4 columns</p>\n",
       "</div>"
      ],
      "text/plain": [
       "      Rating                                        Review_Text  \\\n",
       "0          4  Had a better than expected time with my 2.5 ye...   \n",
       "1          5  Disney Land is the perfect home away from home...   \n",
       "2          5  Truly Disney.....  A place that showcases abou...   \n",
       "3          4  My wife and I visited Disneyland Park at the s...   \n",
       "4          3  As it says I've been here 3 times and this was...   \n",
       "...      ...                                                ...   \n",
       "7621       2  I will start off by saying that comments aroun...   \n",
       "7622       2  Disneyland is a great place to spend time with...   \n",
       "7623       2  This was my first trip to Disneyland and I was...   \n",
       "7624       2  The lines are low, thats good, the staff are r...   \n",
       "7625       2  I would not recommend going if you have been t...   \n",
       "\n",
       "                     Branch  Sentiment  \n",
       "0     Disneyland_California          1  \n",
       "1     Disneyland_California          1  \n",
       "2       Disneyland_HongKong          1  \n",
       "3          Disneyland_Paris          1  \n",
       "4          Disneyland_Paris          1  \n",
       "...                     ...        ...  \n",
       "7621       Disneyland_Paris          0  \n",
       "7622       Disneyland_Paris          0  \n",
       "7623       Disneyland_Paris          0  \n",
       "7624       Disneyland_Paris          0  \n",
       "7625       Disneyland_Paris          0  \n",
       "\n",
       "[7626 rows x 4 columns]"
      ]
     },
     "execution_count": 4,
     "metadata": {},
     "output_type": "execute_result"
    }
   ],
   "source": [
    "# Trying to read the cleaned and balanced CSV file that is loaded in the local drive\n",
    "disneydf_tochat = pd.read_csv(r'C:\\Users\\priya\\Downloads\\Projectwork\\Balanced_Disneydf.csv')  \n",
    "disneydf_tochat.drop(columns=['Stemmed_Text','Lemmatized_Text'],inplace=True,axis=1)\n",
    "disneydf_tochat.to_csv(r'C:\\Users\\priya\\Downloads\\Projectwork\\disneydf_tochat.csv', index=False)\n",
    "df= pd.read_csv(r'C:\\Users\\priya\\Downloads\\Projectwork\\disneydf_tochat.csv')\n",
    "df"
   ]
  },
  {
   "cell_type": "markdown",
   "metadata": {},
   "source": [
    "## Initialize Csv Agent using OpenAI through ZERO-SHOT_REACT_DESCRIPTION agent type:"
   ]
  },
  {
   "cell_type": "code",
   "execution_count": 5,
   "metadata": {},
   "outputs": [
    {
     "name": "stderr",
     "output_type": "stream",
     "text": [
      "C:\\Users\\priya\\anaconda3\\lib\\site-packages\\langchain_core\\_api\\deprecation.py:119: LangChainDeprecationWarning: The class `ChatOpenAI` was deprecated in LangChain 0.0.10 and will be removed in 0.3.0. An updated version of the class exists in the langchain-openai package and should be used instead. To use it run `pip install -U langchain-openai` and import as `from langchain_openai import ChatOpenAI`.\n",
      "  warn_deprecated(\n"
     ]
    }
   ],
   "source": [
    "agent = create_csv_agent(\n",
    "    ChatOpenAI(temperature=0.1, model=\"gpt-3.5-turbo\"),\n",
    "    r'C:\\Users\\priya\\Downloads\\Projectwork\\disneydf_tochat.csv',\n",
    "    verbose=True,\n",
    "    agent_type=AgentType.ZERO_SHOT_REACT_DESCRIPTION,\n",
    ")"
   ]
  },
  {
   "cell_type": "code",
   "execution_count": 6,
   "metadata": {},
   "outputs": [
    {
     "name": "stderr",
     "output_type": "stream",
     "text": [
      "C:\\Users\\priya\\anaconda3\\lib\\site-packages\\langchain_core\\_api\\deprecation.py:119: LangChainDeprecationWarning: The method `Chain.run` was deprecated in langchain 0.1.0 and will be removed in 0.3.0. Use invoke instead.\n",
      "  warn_deprecated(\n"
     ]
    },
    {
     "name": "stdout",
     "output_type": "stream",
     "text": [
      "\n",
      "\n",
      "\u001b[1m> Entering new AgentExecutor chain...\u001b[0m\n",
      "\u001b[32;1m\u001b[1;3mThought: We can find out the number of columns in the dataframe by checking its shape.\n",
      "Action: python_repl_ast\n",
      "Action Input: df.shape[1]\u001b[0m\u001b[36;1m\u001b[1;3m4\u001b[0m\u001b[32;1m\u001b[1;3mThe dataframe has 4 columns.\n",
      "Final Answer: 4\u001b[0m\n",
      "\n",
      "\u001b[1m> Finished chain.\u001b[0m\n"
     ]
    },
    {
     "data": {
      "text/plain": [
       "'4'"
      ]
     },
     "execution_count": 6,
     "metadata": {},
     "output_type": "execute_result"
    }
   ],
   "source": [
    "agent.run(\"How many columns are there in my CSV file?\")"
   ]
  },
  {
   "cell_type": "code",
   "execution_count": 15,
   "metadata": {},
   "outputs": [
    {
     "name": "stdout",
     "output_type": "stream",
     "text": [
      "\n",
      "\n",
      "\u001b[1m> Entering new AgentExecutor chain...\u001b[0m\n",
      "\u001b[32;1m\u001b[1;3m\n",
      "Invoking: `python_repl_ast` with `{'query': 'df.shape[0]'}`\n",
      "\n",
      "\n",
      "\u001b[0m\u001b[36;1m\u001b[1;3m7626\u001b[0m\u001b[32;1m\u001b[1;3mThere are 7626 rows in your CSV file.\u001b[0m\n",
      "\n",
      "\u001b[1m> Finished chain.\u001b[0m\n"
     ]
    },
    {
     "data": {
      "text/plain": [
       "'There are 7626 rows in your CSV file.'"
      ]
     },
     "execution_count": 15,
     "metadata": {},
     "output_type": "execute_result"
    }
   ],
   "source": [
    "agent.run(\"How many rows are there in my CSV file?\")"
   ]
  },
  {
   "cell_type": "code",
   "execution_count": 7,
   "metadata": {},
   "outputs": [
    {
     "name": "stdout",
     "output_type": "stream",
     "text": [
      "\n",
      "\n",
      "\u001b[1m> Entering new AgentExecutor chain...\u001b[0m\n",
      "\u001b[32;1m\u001b[1;3mThought: To find the shape of the dataframe, we need to use the `shape` attribute of the dataframe.\n",
      "Action: python_repl_ast\n",
      "Action Input: df.shape\u001b[0m\u001b[36;1m\u001b[1;3m(7626, 4)\u001b[0m\u001b[32;1m\u001b[1;3mThe shape of the dataframe is (7626, 4). This means it has 7626 rows and 4 columns.\n",
      "\n",
      "Final Answer: The shape of the dataframe is (7626, 4).\u001b[0m\n",
      "\n",
      "\u001b[1m> Finished chain.\u001b[0m\n"
     ]
    },
    {
     "data": {
      "text/plain": [
       "'The shape of the dataframe is (7626, 4).'"
      ]
     },
     "execution_count": 7,
     "metadata": {},
     "output_type": "execute_result"
    }
   ],
   "source": [
    "agent.run(\"What is the shape of this dataframe?\")"
   ]
  },
  {
   "cell_type": "code",
   "execution_count": 12,
   "metadata": {},
   "outputs": [
    {
     "name": "stdout",
     "output_type": "stream",
     "text": [
      "\n",
      "\n",
      "\u001b[1m> Entering new AgentExecutor chain...\u001b[0m\n",
      "\u001b[32;1m\u001b[1;3m\n",
      "Invoking: `python_repl_ast` with `{'query': 'df.shape[0]'}`\n",
      "\n",
      "\n",
      "\u001b[0m\u001b[36;1m\u001b[1;3m7626\u001b[0m\u001b[32;1m\u001b[1;3mThe number of rows in the dataframe is 7626.\u001b[0m\n",
      "\n",
      "\u001b[1m> Finished chain.\u001b[0m\n"
     ]
    },
    {
     "data": {
      "text/plain": [
       "'The number of rows in the dataframe is 7626.'"
      ]
     },
     "execution_count": 12,
     "metadata": {},
     "output_type": "execute_result"
    }
   ],
   "source": [
    "agent.run(\"What is the number of rows in the dataframe?\")"
   ]
  },
  {
   "cell_type": "code",
   "execution_count": 13,
   "metadata": {},
   "outputs": [
    {
     "name": "stdout",
     "output_type": "stream",
     "text": [
      "\n",
      "\n",
      "\u001b[1m> Entering new AgentExecutor chain...\u001b[0m\n",
      "\u001b[32;1m\u001b[1;3m\n",
      "Invoking: `python_repl_ast` with `{'query': 'df.shape[0]'}`\n",
      "\n",
      "\n",
      "\u001b[0m\u001b[36;1m\u001b[1;3m7626\u001b[0m\u001b[32;1m\u001b[1;3mThe number of rows in the CSV file is 7626.\u001b[0m\n",
      "\n",
      "\u001b[1m> Finished chain.\u001b[0m\n"
     ]
    },
    {
     "data": {
      "text/plain": [
       "'The number of rows in the CSV file is 7626.'"
      ]
     },
     "execution_count": 13,
     "metadata": {},
     "output_type": "execute_result"
    }
   ],
   "source": [
    "agent.run(\"What is the number of rows in the CSV file?\")"
   ]
  },
  {
   "cell_type": "code",
   "execution_count": 16,
   "metadata": {},
   "outputs": [
    {
     "name": "stdout",
     "output_type": "stream",
     "text": [
      "\n",
      "\n",
      "\u001b[1m> Entering new AgentExecutor chain...\u001b[0m\n",
      "\u001b[32;1m\u001b[1;3m\n",
      "Invoking: `python_repl_ast` with `{'query': \"df[(df['Branch']=='Disneyland_California') & (df['Sentiment']==1)]['Review_Text'].sample().values[0]\"}`\n",
      "\n",
      "\n",
      "\u001b[0m\u001b[36;1m\u001b[1;3mSo much to do   you will need 3 days to get around this park and the California Adventure Park.  Great fun for young children and adults.  Check out how the the fast passes work as they save a lot of queueing time.\u001b[0m\u001b[32;1m\u001b[1;3mOne positive review about Disneyland California location is: \"So much to do - you will need 3 days to get around this park and the California Adventure Park. Great fun for young children and adults. Check out how the fast passes work as they save a lot of queueing time.\"\u001b[0m\n",
      "\n",
      "\u001b[1m> Finished chain.\u001b[0m\n"
     ]
    },
    {
     "data": {
      "text/plain": [
       "'One positive review about Disneyland California location is: \"So much to do - you will need 3 days to get around this park and the California Adventure Park. Great fun for young children and adults. Check out how the fast passes work as they save a lot of queueing time.\"'"
      ]
     },
     "execution_count": 16,
     "metadata": {},
     "output_type": "execute_result"
    }
   ],
   "source": [
    "agent.run(\"Any one positive review about Disneyland California location?\")"
   ]
  },
  {
   "cell_type": "code",
   "execution_count": 17,
   "metadata": {},
   "outputs": [
    {
     "name": "stdout",
     "output_type": "stream",
     "text": [
      "\n",
      "\n",
      "\u001b[1m> Entering new AgentExecutor chain...\u001b[0m\n",
      "\u001b[32;1m\u001b[1;3m\n",
      "Invoking: `python_repl_ast` with `{'query': \"df[(df['Branch']=='Disneyland_California') & (df['Sentiment']==0)]['Review_Text'].values[0]\"}`\n",
      "\n",
      "\n",
      "\u001b[0m\u001b[36;1m\u001b[1;3mIt is no doubt a legendary place but I just dont think it's worth the money and headache of overcrowding and overpriced everything. Disney continues to raise the price of admission and the crowds are ridiculous every single day. There are plenty of things to do in SoCal that are cheap or free. Save your family hundreds of dollars and go somewhere else. \u001b[0m\u001b[32;1m\u001b[1;3mHere is one negative review about Disneyland California location:\n",
      "\"It is no doubt a legendary place but I just don't think it's worth the money and headache of overcrowding and overpriced everything. Disney continues to raise the price of admission and the crowds are ridiculous every single day. There are plenty of things to do in SoCal that are cheap or free. Save your family hundreds of dollars and go somewhere else.\"\u001b[0m\n",
      "\n",
      "\u001b[1m> Finished chain.\u001b[0m\n"
     ]
    },
    {
     "data": {
      "text/plain": [
       "'Here is one negative review about Disneyland California location:\\n\"It is no doubt a legendary place but I just don\\'t think it\\'s worth the money and headache of overcrowding and overpriced everything. Disney continues to raise the price of admission and the crowds are ridiculous every single day. There are plenty of things to do in SoCal that are cheap or free. Save your family hundreds of dollars and go somewhere else.\"'"
      ]
     },
     "execution_count": 17,
     "metadata": {},
     "output_type": "execute_result"
    }
   ],
   "source": [
    "agent.run(\"Any one negative review about Disneyland California location?\")"
   ]
  },
  {
   "cell_type": "code",
   "execution_count": 10,
   "metadata": {},
   "outputs": [
    {
     "name": "stdout",
     "output_type": "stream",
     "text": [
      "\n",
      "\n",
      "\u001b[1m> Entering new AgentExecutor chain...\u001b[0m\n",
      "\u001b[32;1m\u001b[1;3mThought: To determine what the dataset is about, we should look at the information provided in the columns and the review text.\n",
      "Action: python_repl_ast\n",
      "Action Input: df.info()\u001b[0m\u001b[36;1m\u001b[1;3m<class 'pandas.core.frame.DataFrame'>\n",
      "RangeIndex: 7626 entries, 0 to 7625\n",
      "Data columns (total 4 columns):\n",
      " #   Column       Non-Null Count  Dtype \n",
      "---  ------       --------------  ----- \n",
      " 0   Rating       7626 non-null   int64 \n",
      " 1   Review_Text  7626 non-null   object\n",
      " 2   Branch       7626 non-null   object\n",
      " 3   Sentiment    7626 non-null   int64 \n",
      "dtypes: int64(2), object(2)\n",
      "memory usage: 238.4+ KB\n",
      "\u001b[0m\u001b[32;1m\u001b[1;3mThe dataset contains 7626 entries with 4 columns: Rating, Review_Text, Branch, and Sentiment. The dataset seems to be about reviews of different branches of Disneyland and the sentiment associated with each review.\n",
      "Final Answer: The dataset is about reviews of different branches of Disneyland and the sentiment associated with each review.\u001b[0m\n",
      "\n",
      "\u001b[1m> Finished chain.\u001b[0m\n"
     ]
    },
    {
     "data": {
      "text/plain": [
       "'The dataset is about reviews of different branches of Disneyland and the sentiment associated with each review.'"
      ]
     },
     "execution_count": 10,
     "metadata": {},
     "output_type": "execute_result"
    }
   ],
   "source": [
    "agent.run(\"What is this dataset about?\")"
   ]
  },
  {
   "cell_type": "code",
   "execution_count": 12,
   "metadata": {},
   "outputs": [
    {
     "name": "stdout",
     "output_type": "stream",
     "text": [
      "\n",
      "\n",
      "\u001b[1m> Entering new AgentExecutor chain...\u001b[0m\n",
      "\u001b[32;1m\u001b[1;3mThought: We need to analyze the sentiment ratings for each Disneyland location to determine which one is the best to visit.\n",
      "Action: Use pandas to group the data by 'Branch' and calculate the mean sentiment rating.\n",
      "Action Input: df.groupby('Branch')['Sentiment'].mean()\u001b[0mUse pandas to group the data by 'Branch' and calculate the mean sentiment rating. is not a valid tool, try one of [python_repl_ast].\u001b[32;1m\u001b[1;3mI should use python_repl_ast to calculate the mean sentiment rating for each Disneyland location.\n",
      "Action: python_repl_ast\n",
      "Action Input: df.groupby('Branch')['Sentiment'].mean()\u001b[0m\u001b[36;1m\u001b[1;3mBranch\n",
      "Disneyland_California    0.600385\n",
      "Disneyland_HongKong      0.641243\n",
      "Disneyland_Paris         0.394567\n",
      "Name: Sentiment, dtype: float64\u001b[0m\u001b[32;1m\u001b[1;3mBased on the mean sentiment ratings, Disneyland_HongKong seems to be the best Disneyland location to visit out of all locations specified in the dataset.\n",
      "Final Answer: Disneyland_HongKong\u001b[0m\n",
      "\n",
      "\u001b[1m> Finished chain.\u001b[0m\n"
     ]
    },
    {
     "data": {
      "text/plain": [
       "'Disneyland_HongKong'"
      ]
     },
     "execution_count": 12,
     "metadata": {},
     "output_type": "execute_result"
    }
   ],
   "source": [
    "agent.run(\"Which disneyland location seems to be best to visit out of all locations specified in the dataset?\")"
   ]
  },
  {
   "cell_type": "code",
   "execution_count": 20,
   "metadata": {},
   "outputs": [
    {
     "name": "stdout",
     "output_type": "stream",
     "text": [
      "\n",
      "\n",
      "\u001b[1m> Entering new AgentExecutor chain...\u001b[0m\n",
      "\u001b[32;1m\u001b[1;3m\n",
      "Invoking: `python_repl_ast` with `{'query': \"df.groupby('Branch')['Rating'].mean()\"}`\n",
      "responded: To determine which Disneyland location seems to be the best to visit based on the reviews in the dataset, we can analyze the average rating for each location. The location with the highest average rating can be considered the best to visit according to the reviews.\n",
      "\n",
      "Let's calculate the average rating for each Disneyland location in the dataset.\n",
      "\n",
      "\u001b[0m\u001b[36;1m\u001b[1;3mBranch\n",
      "Disneyland_California    3.408275\n",
      "Disneyland_HongKong      3.375000\n",
      "Disneyland_Paris         2.664295\n",
      "Name: Rating, dtype: float64\u001b[0m\u001b[32;1m\u001b[1;3mBased on the average ratings from the reviews in the dataset, the Disneyland location that seems to be the best to visit is **Disneyland California** with an average rating of approximately **3.41**.\u001b[0m\n",
      "\n",
      "\u001b[1m> Finished chain.\u001b[0m\n"
     ]
    },
    {
     "data": {
      "text/plain": [
       "'Based on the average ratings from the reviews in the dataset, the Disneyland location that seems to be the best to visit is **Disneyland California** with an average rating of approximately **3.41**.'"
      ]
     },
     "execution_count": 20,
     "metadata": {},
     "output_type": "execute_result"
    }
   ],
   "source": [
    "agent.run(\"Which disneyland location seems to be best to visit out of all locations specified in the dataset based on the Reviews?\")"
   ]
  },
  {
   "cell_type": "code",
   "execution_count": 21,
   "metadata": {},
   "outputs": [
    {
     "name": "stdout",
     "output_type": "stream",
     "text": [
      "\n",
      "\n",
      "\u001b[1m> Entering new AgentExecutor chain...\u001b[0m\n",
      "\u001b[32;1m\u001b[1;3m\n",
      "Invoking: `python_repl_ast` with `{'query': \"df[df['Branch'] == 'Disneyland_California']['Review_Text'].values\"}`\n",
      "responded: To provide information about the food in Disneyland California location, we can extract relevant details from the dataframe based on the \"Branch\" column. Let me retrieve the information for you.\n",
      "\n",
      "\u001b[0m\u001b[36;1m\u001b[1;3m[\"Had a better than expected time with my 2.5 year old girl, infant son, wife and my parents.My daughter loved the Princess Faire   attended the events almost daily, wearing her Snow White dress. My intention was to go for 5th birthday when she'll be able to remember more but it turned out to be a perfect age   she really was excited to see the princesses! Other highlights for her (and us):The daily Sylvania parade   watched the afternoon show which was just fine. The evening show was too late for the little ones.Fantasyland   she loved the outside rides mostly   teacup ride, Dumbo, Casey Jr train, and carousel especially.PhotoPass   for $60 you get a CD of unlimited photos taken by photographers stationed at the main landmarks (eg, Cinderella Castle, with various characters).Bug's Land in California Adventures   about the only place for a toddler   only spent 1 hour here but would spend more time next trip if I had known more about it.. Tame but fun and cute rides for young ones, similar to Fantasy LandNegatives:Food is mediocre   ate at French Cafe, and twice at Plaza Inn.Food was so so at the French Cafe. First time we went to Plaza Inn the fried chicken was very good. Second time we went it tasted slightly strange   like some chemical in the oil that shouldn't be there. The dinner buffet at Storyteller Cafe was decent but also not worth a special trip if you are staying off park.Ariel's Grotto Princess Breakfast   table visits by the princesses were very brief (maybe 1 2 minutes each); Arielle and Belle were very nice but the people playing Snow White and Cinderella were superficially friendly only   not as nice as the ones at the Princess Faire. Food was bad too. My advice   save your money and wait in line to meet them for free at the Princess Faire.Mixed Opinions:Staying off resort   we stayed at the Marriott Suites Garden Grove, a very nice place and much less expensive than the resort hotels. However we had to rely on the ART shuttle which was often very crowded especially in the evening. It was quite miserable luuging a stroller, while standing with a crying infant shoulder to shoulder after a long day at the park in this bus. I definitely recommend staying walking distance away at one of the hotels on Harbor Blvd or stay at a hotel with its own private shuttle.Disneyland Express   pick up at the airport was flawless however we scheduled a pick up back to the airport but it did not come   we waited for over 1 2 hour and ended up hiring a limo to bring us to John Wayne airport for $45. Ended up losing our pre paid fare which was non refundable. If traveling with at least 4 adults, I would definitely hire a minivan taxi next time   fare is cheaper anyways and they don't require infant or toddler seats, which I did not realize.Hope this helps!\"\n",
      " \"Disney Land is the perfect home away from home. The moment you walk in, it's a blast in the past and your inner child takes over. While walking around, you know all the characters, all the venues, you simply feel like this is the perfect imaginary hideout that has come to life. One word of advice, always buy the priority passes, although a little more expensive, but will save you hours of waiting in line to get on rides. Oh, and keep a lookout for the end of day show. That is an experience of a lifetime full of cartoons projected by lasers on water fountains and an exceptional display of fireworks!Have fun kids!\"\n",
      " \"The most amazing place to take young children. What stood out so much for me was the incredibly happy staff!! Always so friendly, happy, and accommodating. Clean and tidy second to nothing I've ever seen. Not a piece of litter anywhere. Well placed restrooms and eating areas. So well structured and organized. Brilliantly run. A fun filled day for the whole family. \"\n",
      " ...\n",
      " \"I will agree that Disneyworld is the happiest place on earth. Disneyland is definately the unhappiest place on earth after fighting crowds for only a few hours. Disneyland is in dire need of customer service and reconstruction to accomodate the crowds. Each theme park in Disneyworld seems to cater to specific age groups. My son being three years old doesn't need rides that rip his teeth out of his mouth. The MGM Theme Park in Disneyworld catered to smaller rides, puppet shows and low key entertainment. The park has much more room to walk around and lots of stands to buy small items like hot dogs, pretzels, popcorn, ect. Disneyland you will find only snacks that do not contain any other item but sugar...candybars, ice cream bars, soda pop, slushes, etc. If you want real food in Disneyland expect to stand in line at the only 1 or 2 walk up grills, and expect it to be spendy for a sandwich and soda. Oh, there are other restaurants that you can sit down and enjoy a lunch, but for a family of four it will really get spendy. The nice people at Disneyworld never hassle you about your backpacks with one or two bottles of water and a few snacks for your toddler. At Disneyland it is worse that going through airport security. They will confiscate anything edible they can dig out of your bags. My advise....save up the money for flight tickets and spend your money at Disneyworld. It is worth it to visit Mickey and Friends in Florida. You will have a really good time and be treated like royalty.\"\n",
      " \"I just visited Disneyland and was quite disappointed with the number of ride closures! We were aware that Space Mountain was closed for the year, but many other rides attractions were closed frequently for problems. To list a few:  Indiana Jones   we obtained a fastpass and when we returned the ride was closed. The next day, once again the ride was closed and finally on our third try we managed to get on. (It was a good ride, for your information and worth the wait).  Matterhorn   we were told by other people that they spent 75 minutes in the lineup only to be turned away when they got to the entrance as the ride was shutdown for maintenance after problems. People were led off the ride. This occured on at least 2 3 occasions. We gave up and didn't bother going on it. Pirates of the Caribbean   We went on this ride after about a 30 minute wait and got stuck on it at the part where the town is all singing  Yo ho, yo ho, a pirate's life for me!  for at least 30 minutes. This is not a pleasant experience and actually people were getting kind of panicky.  Haunted Mansion   We had a temporary stall when we were on this ride, but only for about 5 minutes. Still, this added to the list of malfunctions in the park.We were not pleased to find we had arrived during the California Spring Easter Break and lineups and crowds were overwhelming.Unlike most reviews, however, we really enjoyed California Adventure. If you are going, check out the restaurant by Soaring over California   the  all dressed fries  (not sure of the name, but they have fries, chili, sour cream, cheese, onions, etc and are fabulous and a good bargain!) The rides are more exciting for older children teenagers and the Aladdin show is awesome. Also, Who Wants to be a Millionaire, a Bug's life, and many others. Very worthwhile.\"\n",
      " \"never again...what a horrible experience, the worst weekend of my life. We went to Disneyland fully understanding that it would be crowded, there would be lines and lots & lots of people..however, there were so many people that you could literally not walk, You had to wait in line to move! Waits for rides were 3 1 2 4 hrs long, waits just to get a speed pass were over 1 hr long. Although we all remained in good spirits and tried to enjoy it, it was impossible. You couldn't even take a picture of each other, it was too crowded. After only 3 hours on our second day there, my nieces asked to leave. On our way out we stopped at Guest Relations to express our unhappiness, and were directed to yet another lengthy line that we would have to wait in, the line to complain which was approximately 60 people deep. We chose not to wait, instead asking for an address where we could send a letter, and were told to wait in the same line to just get that.....never again, what a shame, we planned for months, and spent an incredible amount of money for the worst 2 days of our lives.\"]\u001b[0m\u001b[32;1m\u001b[1;3mIn the reviews for Disneyland California location, there are mixed opinions about the food. Some visitors mentioned that the food was mediocre at the French Cafe and Plaza Inn. Specifically, one visitor noted that the fried chicken at Plaza Inn was good on the first visit but tasted slightly strange on the second visit. Additionally, the Ariel's Grotto Princess Breakfast received negative feedback for both the brief table visits by the princesses and the quality of the food.\n",
      "\n",
      "Overall, the reviews suggest that the food experience at Disneyland California may vary, with some visitors expressing dissatisfaction with certain dining options.\u001b[0m\n",
      "\n",
      "\u001b[1m> Finished chain.\u001b[0m\n"
     ]
    },
    {
     "data": {
      "text/plain": [
       "\"In the reviews for Disneyland California location, there are mixed opinions about the food. Some visitors mentioned that the food was mediocre at the French Cafe and Plaza Inn. Specifically, one visitor noted that the fried chicken at Plaza Inn was good on the first visit but tasted slightly strange on the second visit. Additionally, the Ariel's Grotto Princess Breakfast received negative feedback for both the brief table visits by the princesses and the quality of the food.\\n\\nOverall, the reviews suggest that the food experience at Disneyland California may vary, with some visitors expressing dissatisfaction with certain dining options.\""
      ]
     },
     "execution_count": 21,
     "metadata": {},
     "output_type": "execute_result"
    }
   ],
   "source": [
    "agent.run(\"Can you tell about the food in Disneyland California location?\")"
   ]
  },
  {
   "cell_type": "markdown",
   "metadata": {},
   "source": [
    "## Csv Agent using OpenAI through OPENAI_FUNCTIONS agent type and look for responses:"
   ]
  },
  {
   "cell_type": "code",
   "execution_count": 14,
   "metadata": {},
   "outputs": [],
   "source": [
    "agent = create_csv_agent(\n",
    "    ChatOpenAI(temperature=0.1, model=\"gpt-3.5-turbo\"),\n",
    "    r'C:\\Users\\priya\\Downloads\\Projectwork\\disneydf_tochat.csv',\n",
    "    verbose=True,\n",
    "    agent_type=AgentType.OPENAI_FUNCTIONS,\n",
    ")"
   ]
  },
  {
   "cell_type": "code",
   "execution_count": 9,
   "metadata": {},
   "outputs": [
    {
     "name": "stdout",
     "output_type": "stream",
     "text": [
      "\n",
      "\n",
      "\u001b[1m> Entering new AgentExecutor chain...\u001b[0m\n",
      "\u001b[32;1m\u001b[1;3m\n",
      "Invoking: `python_repl_ast` with `{'query': 'df.shape[0]'}`\n",
      "\n",
      "\n",
      "\u001b[0m\u001b[36;1m\u001b[1;3m7626\u001b[0m\u001b[32;1m\u001b[1;3mThere are 7626 rows in your CSV file.\u001b[0m\n",
      "\n",
      "\u001b[1m> Finished chain.\u001b[0m\n"
     ]
    },
    {
     "data": {
      "text/plain": [
       "'There are 7626 rows in your CSV file.'"
      ]
     },
     "execution_count": 9,
     "metadata": {},
     "output_type": "execute_result"
    }
   ],
   "source": [
    "agent.run(\"How many rows are there in my CSV file?\")"
   ]
  },
  {
   "cell_type": "code",
   "execution_count": 10,
   "metadata": {},
   "outputs": [
    {
     "name": "stdout",
     "output_type": "stream",
     "text": [
      "\n",
      "\n",
      "\u001b[1m> Entering new AgentExecutor chain...\u001b[0m\n",
      "\u001b[32;1m\u001b[1;3m\n",
      "Invoking: `python_repl_ast` with `{'query': \"df[df['Branch']=='Disneyland_California']['Sentiment'].sum()\"}`\n",
      "\n",
      "\n",
      "\u001b[0m\u001b[36;1m\u001b[1;3m1872\u001b[0m\u001b[32;1m\u001b[1;3mThere are 1872 positive reviews for your Disneyland California location.\u001b[0m\n",
      "\n",
      "\u001b[1m> Finished chain.\u001b[0m\n"
     ]
    },
    {
     "data": {
      "text/plain": [
       "'There are 1872 positive reviews for your Disneyland California location.'"
      ]
     },
     "execution_count": 10,
     "metadata": {},
     "output_type": "execute_result"
    }
   ],
   "source": [
    "agent.run(\"How many positive reviews are there for my Disneyland California location?\")"
   ]
  },
  {
   "cell_type": "code",
   "execution_count": 16,
   "metadata": {},
   "outputs": [
    {
     "name": "stdout",
     "output_type": "stream",
     "text": [
      "\n",
      "\n",
      "\u001b[1m> Entering new AgentExecutor chain...\u001b[0m\n",
      "\u001b[32;1m\u001b[1;3m\n",
      "Invoking: `python_repl_ast` with `{'query': \"df[df['Branch']=='Disneyland_California']['Review_Text'].iloc[0]\"}`\n",
      "\n",
      "\n",
      "\u001b[0m\u001b[36;1m\u001b[1;3mHad a better than expected time with my 2.5 year old girl, infant son, wife and my parents.My daughter loved the Princess Faire   attended the events almost daily, wearing her Snow White dress. My intention was to go for 5th birthday when she'll be able to remember more but it turned out to be a perfect age   she really was excited to see the princesses! Other highlights for her (and us):The daily Sylvania parade   watched the afternoon show which was just fine. The evening show was too late for the little ones.Fantasyland   she loved the outside rides mostly   teacup ride, Dumbo, Casey Jr train, and carousel especially.PhotoPass   for $60 you get a CD of unlimited photos taken by photographers stationed at the main landmarks (eg, Cinderella Castle, with various characters).Bug's Land in California Adventures   about the only place for a toddler   only spent 1 hour here but would spend more time next trip if I had known more about it.. Tame but fun and cute rides for young ones, similar to Fantasy LandNegatives:Food is mediocre   ate at French Cafe, and twice at Plaza Inn.Food was so so at the French Cafe. First time we went to Plaza Inn the fried chicken was very good. Second time we went it tasted slightly strange   like some chemical in the oil that shouldn't be there. The dinner buffet at Storyteller Cafe was decent but also not worth a special trip if you are staying off park.Ariel's Grotto Princess Breakfast   table visits by the princesses were very brief (maybe 1 2 minutes each); Arielle and Belle were very nice but the people playing Snow White and Cinderella were superficially friendly only   not as nice as the ones at the Princess Faire. Food was bad too. My advice   save your money and wait in line to meet them for free at the Princess Faire.Mixed Opinions:Staying off resort   we stayed at the Marriott Suites Garden Grove, a very nice place and much less expensive than the resort hotels. However we had to rely on the ART shuttle which was often very crowded especially in the evening. It was quite miserable luuging a stroller, while standing with a crying infant shoulder to shoulder after a long day at the park in this bus. I definitely recommend staying walking distance away at one of the hotels on Harbor Blvd or stay at a hotel with its own private shuttle.Disneyland Express   pick up at the airport was flawless however we scheduled a pick up back to the airport but it did not come   we waited for over 1 2 hour and ended up hiring a limo to bring us to John Wayne airport for $45. Ended up losing our pre paid fare which was non refundable. If traveling with at least 4 adults, I would definitely hire a minivan taxi next time   fare is cheaper anyways and they don't require infant or toddler seats, which I did not realize.Hope this helps!\u001b[0m\u001b[32;1m\u001b[1;3mOne review about the rides in Disneyland California location mentions that the reviewer's daughter loved the outside rides in Fantasyland, especially the teacup ride, Dumbo, Casey Jr train, and carousel. The reviewer also mentioned Bug's Land in California Adventures as a fun and cute place for young ones, similar to Fantasy Land.\u001b[0m\n",
      "\n",
      "\u001b[1m> Finished chain.\u001b[0m\n"
     ]
    },
    {
     "data": {
      "text/plain": [
       "\"One review about the rides in Disneyland California location mentions that the reviewer's daughter loved the outside rides in Fantasyland, especially the teacup ride, Dumbo, Casey Jr train, and carousel. The reviewer also mentioned Bug's Land in California Adventures as a fun and cute place for young ones, similar to Fantasy Land.\""
      ]
     },
     "execution_count": 16,
     "metadata": {},
     "output_type": "execute_result"
    }
   ],
   "source": [
    "agent.run(\"Can you tell one review about the rides in Disneyland California location?\")"
   ]
  },
  {
   "cell_type": "code",
   "execution_count": 17,
   "metadata": {},
   "outputs": [
    {
     "name": "stdout",
     "output_type": "stream",
     "text": [
      "\n",
      "\n",
      "\u001b[1m> Entering new AgentExecutor chain...\u001b[0m\n",
      "\u001b[32;1m\u001b[1;3m\n",
      "Invoking: `python_repl_ast` with `{'query': \"df[df['Review_Text'].str.contains('Food')][['Review_Text']]\"}`\n",
      "\n",
      "\n",
      "\u001b[0m\u001b[36;1m\u001b[1;3m                                            Review_Text\n",
      "0     Had a better than expected time with my 2.5 ye...\n",
      "3     My wife and I visited Disneyland Park at the s...\n",
      "12    Our second trip to Eurodisney this time with t...\n",
      "24    Very brief & simple reviewMy first time was wh...\n",
      "30    I arrived via the Disneyland express train fro...\n",
      "...                                                 ...\n",
      "7444  Travelled with daughter and husband and grand ...\n",
      "7506  A review below hits the nail squarly on the he...\n",
      "7519  I spent 4 days 3 nights here. It was awful, co...\n",
      "7521  went to disney parks on 25th march 2010, was s...\n",
      "7594  My husband, daughter aged 10 and I have just r...\n",
      "\n",
      "[426 rows x 1 columns]\u001b[0m\u001b[32;1m\u001b[1;3mThere are 426 reviews that mention food inside Disneyland.\u001b[0m\n",
      "\n",
      "\u001b[1m> Finished chain.\u001b[0m\n"
     ]
    },
    {
     "data": {
      "text/plain": [
       "'There are 426 reviews that mention food inside Disneyland.'"
      ]
     },
     "execution_count": 17,
     "metadata": {},
     "output_type": "execute_result"
    }
   ],
   "source": [
    "agent.run(\"What about the food inside Disneyland?\")"
   ]
  },
  {
   "cell_type": "code",
   "execution_count": 19,
   "metadata": {},
   "outputs": [
    {
     "name": "stdout",
     "output_type": "stream",
     "text": [
      "\n",
      "\n",
      "\u001b[1m> Entering new AgentExecutor chain...\u001b[0m\n",
      "\u001b[32;1m\u001b[1;3m\n",
      "Invoking: `python_repl_ast` with `{'query': \"df[df['Branch'] == 'Disneyland_California']['Review_Text'].values[0]\"}`\n",
      "responded: To provide information about the food in Disneyland California location, we can extract relevant details from the dataframe based on the \"Branch\" column value. Let me retrieve the information for you.\n",
      "\n",
      "\u001b[0m\u001b[36;1m\u001b[1;3mHad a better than expected time with my 2.5 year old girl, infant son, wife and my parents.My daughter loved the Princess Faire   attended the events almost daily, wearing her Snow White dress. My intention was to go for 5th birthday when she'll be able to remember more but it turned out to be a perfect age   she really was excited to see the princesses! Other highlights for her (and us):The daily Sylvania parade   watched the afternoon show which was just fine. The evening show was too late for the little ones.Fantasyland   she loved the outside rides mostly   teacup ride, Dumbo, Casey Jr train, and carousel especially.PhotoPass   for $60 you get a CD of unlimited photos taken by photographers stationed at the main landmarks (eg, Cinderella Castle, with various characters).Bug's Land in California Adventures   about the only place for a toddler   only spent 1 hour here but would spend more time next trip if I had known more about it.. Tame but fun and cute rides for young ones, similar to Fantasy LandNegatives:Food is mediocre   ate at French Cafe, and twice at Plaza Inn.Food was so so at the French Cafe. First time we went to Plaza Inn the fried chicken was very good. Second time we went it tasted slightly strange   like some chemical in the oil that shouldn't be there. The dinner buffet at Storyteller Cafe was decent but also not worth a special trip if you are staying off park.Ariel's Grotto Princess Breakfast   table visits by the princesses were very brief (maybe 1 2 minutes each); Arielle and Belle were very nice but the people playing Snow White and Cinderella were superficially friendly only   not as nice as the ones at the Princess Faire. Food was bad too. My advice   save your money and wait in line to meet them for free at the Princess Faire.Mixed Opinions:Staying off resort   we stayed at the Marriott Suites Garden Grove, a very nice place and much less expensive than the resort hotels. However we had to rely on the ART shuttle which was often very crowded especially in the evening. It was quite miserable luuging a stroller, while standing with a crying infant shoulder to shoulder after a long day at the park in this bus. I definitely recommend staying walking distance away at one of the hotels on Harbor Blvd or stay at a hotel with its own private shuttle.Disneyland Express   pick up at the airport was flawless however we scheduled a pick up back to the airport but it did not come   we waited for over 1 2 hour and ended up hiring a limo to bring us to John Wayne airport for $45. Ended up losing our pre paid fare which was non refundable. If traveling with at least 4 adults, I would definitely hire a minivan taxi next time   fare is cheaper anyways and they don't require infant or toddler seats, which I did not realize.Hope this helps!\u001b[0m\u001b[32;1m\u001b[1;3mIn Disneyland California, the food received mixed reviews. Some highlights mentioned in the review include the Plaza Inn fried chicken being very good on the first visit. However, on the second visit, the food tasted slightly strange, like there was some chemical in the oil that shouldn't be there. The review also mentioned that the food at the French Cafe was mediocre.\n",
      "\n",
      "Additionally, the review shared experiences from the Ariel's Grotto Princess Breakfast, where table visits by the princesses were very brief, and the food was described as bad. The advice given was to save money and wait in line to meet the princesses for free at the Princess Faire.\n",
      "\n",
      "Overall, the food experiences in Disneyland California, as per the review, had mixed opinions ranging from mediocre to slightly strange tastes in the food served at different dining locations within the park.\u001b[0m\n",
      "\n",
      "\u001b[1m> Finished chain.\u001b[0m\n"
     ]
    },
    {
     "data": {
      "text/plain": [
       "\"In Disneyland California, the food received mixed reviews. Some highlights mentioned in the review include the Plaza Inn fried chicken being very good on the first visit. However, on the second visit, the food tasted slightly strange, like there was some chemical in the oil that shouldn't be there. The review also mentioned that the food at the French Cafe was mediocre.\\n\\nAdditionally, the review shared experiences from the Ariel's Grotto Princess Breakfast, where table visits by the princesses were very brief, and the food was described as bad. The advice given was to save money and wait in line to meet the princesses for free at the Princess Faire.\\n\\nOverall, the food experiences in Disneyland California, as per the review, had mixed opinions ranging from mediocre to slightly strange tastes in the food served at different dining locations within the park.\""
      ]
     },
     "execution_count": 19,
     "metadata": {},
     "output_type": "execute_result"
    }
   ],
   "source": [
    "agent.run(\"Can you tell about the food in Disneyland California location?\")"
   ]
  },
  {
   "cell_type": "code",
   "execution_count": null,
   "metadata": {},
   "outputs": [],
   "source": []
  }
 ],
 "metadata": {
  "kernelspec": {
   "display_name": "Python 3 (ipykernel)",
   "language": "python",
   "name": "python3"
  },
  "language_info": {
   "codemirror_mode": {
    "name": "ipython",
    "version": 3
   },
   "file_extension": ".py",
   "mimetype": "text/x-python",
   "name": "python",
   "nbconvert_exporter": "python",
   "pygments_lexer": "ipython3",
   "version": "3.9.19"
  }
 },
 "nbformat": 4,
 "nbformat_minor": 2
}
